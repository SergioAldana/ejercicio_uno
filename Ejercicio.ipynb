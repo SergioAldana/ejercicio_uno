{
 "cells": [
  {
   "cell_type": "markdown",
   "id": "432e8484",
   "metadata": {},
   "source": [
    "## Ejercicio\n",
    "### Carga del CSV:"
   ]
  },
  {
   "cell_type": "code",
   "execution_count": 100,
   "id": "ee5d7d73",
   "metadata": {},
   "outputs": [],
   "source": [
    "import csv\n",
    "with open('sample_data/datos_tratamiento.csv', 'r') as archivo_csv:\n",
    "    datos_de_usuario = csv.reader(archivo_csv, delimiter='|')\n",
    "    datos = list(datos_de_usuario)\n",
    "    datos\n",
    "\n",
    "    def asociacion():\n",
    "        print('Paciente: {0}, Presión Arterial: {1}, Urea en sangre: {2}, Gota: {3}, Hipotiroidismo: {4}'\n",
    "              .format(row[0], row[1], row[2], row[3], row[4]))\n",
    "        \n",
    "    def aplicar_tratamiento():\n",
    "        asociacion()\n",
    "        print('Resultado: El paciente requiere tratamiento')\n",
    "        \n",
    "    def no_aplicar_tratamiento():\n",
    "        asociacion()\n",
    "        print('Resultado: El paciente no requiere tratamiento')\n",
    "        \n",
    "    for row in datos_de_usuario:\n",
    "        if str(row[1]).lower == 'alta':\n",
    "            if str(row[3]).lower == 'si' or str(row[3]).lower == 'true':\n",
    "                no_aplicar_tratamiento()\n",
    "            else:\n",
    "                aplicar_tratamiento()\n",
    "        elif str(row[1]).lower == 'normal':\n",
    "            aplicar_tratamiento()\n",
    "        elif str(row[1]).lower == 'baja':\n",
    "            if str(row[4]).lower == 'si' or str(row[4]).lower == 'true':\n",
    "                no_aplicar_tratamiento()\n",
    "            else:\n",
    "                aplicar_tratamiento()"
   ]
  },
  {
   "cell_type": "markdown",
   "id": "24f921dc",
   "metadata": {},
   "source": [
    "       "
   ]
  },
  {
   "cell_type": "code",
   "execution_count": 101,
   "id": "7a9cb747",
   "metadata": {},
   "outputs": [],
   "source": [
    "import csv\n",
    "with open('sample_data/datos_tratamiento.csv', 'r') as archivo_csv:\n",
    "    datos_de_usuario = csv.reader(archivo_csv, delimiter='|')\n",
    "    datos = list(datos_de_usuario)\n",
    "    \n",
    "\n",
    "    def asociacion():\n",
    "        print('Paciente: {0}, Presión Arterial: {1}, Urea en sangre: {2}, Gota: {3}, Hipotiroidismo: {4}'\n",
    "              .format(row[0], row[1], row[2], row[3], row[4]))\n",
    "        \n",
    "    def aplicar_tratamiento():\n",
    "        print('Paciente: {0}, Presión Arterial: {1}, Urea en sangre: {2}, Gota: {3}, Hipotiroidismo: {4}'\n",
    "              .format(row[0], row[1], row[2], row[3], row[4]))\n",
    "        print('Resultado: El paciente requiere tratamiento')\n",
    "        \n",
    "    def no_aplicar_tratamiento():\n",
    "        asociacion()\n",
    "        print('Paciente: {0}, Presión Arterial: {1}, Urea en sangre: {2}, Gota: {3}, Hipotiroidismo: {4}'\n",
    "              .format(row[0], row[1], row[2], row[3], row[4]))\n",
    "        print('Resultado: El paciente no requiere tratamiento')\n",
    "        \n",
    "    for row in datos_de_usuario:\n",
    "        if row[1] == 'Alta':\n",
    "            if row[3] == 'Si' or str(row[3]) == 'TRUE':\n",
    "                no_aplicar_tratamiento()\n",
    "            else:\n",
    "                aplicar_tratamiento()\n",
    "        elif row[1] == 'Normal':\n",
    "            aplicar_tratamiento()\n",
    "        elif str(row[1]).lower == 'baja':\n",
    "            if str(row[4]).lower == 'si' or str(row[4]).lower == 'true':\n",
    "                no_aplicar_tratamiento()\n",
    "            else:\n",
    "                aplicar_tratamiento()"
   ]
  },
  {
   "cell_type": "code",
   "execution_count": null,
   "id": "a5eec16e",
   "metadata": {},
   "outputs": [],
   "source": []
  }
 ],
 "metadata": {
  "kernelspec": {
   "display_name": "Python 3 (ipykernel)",
   "language": "python",
   "name": "python3"
  },
  "language_info": {
   "codemirror_mode": {
    "name": "ipython",
    "version": 3
   },
   "file_extension": ".py",
   "mimetype": "text/x-python",
   "name": "python",
   "nbconvert_exporter": "python",
   "pygments_lexer": "ipython3",
   "version": "3.9.12"
  }
 },
 "nbformat": 4,
 "nbformat_minor": 5
}

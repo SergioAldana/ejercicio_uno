{
 "cells": [
  {
   "cell_type": "markdown",
   "id": "432e8484",
   "metadata": {},
   "source": [
    "# Ejercicio\n",
    "Carga del archivo CSV:"
   ]
  },
  {
   "cell_type": "code",
   "execution_count": 173,
   "id": "ee5d7d73",
   "metadata": {},
   "outputs": [
    {
     "data": {
      "text/plain": [
       "[['Paciente,Presion Arterial\"',\n",
       "  'Urea en Sangre',\n",
       "  'Gota',\n",
       "  'Hipotiroidismo',\n",
       "  'Tratamiento'],\n",
       " ['1', 'Alta', 'Alta', 'TRUE', 'FALSE', 'FALSE'],\n",
       " ['2', 'Alta', 'Alta', 'TRUE', 'TRUE', 'FALSE'],\n",
       " ['3', 'Normal', 'Alta', 'TRUE', 'FALSE', 'TRUE'],\n",
       " ['4', 'Baja', 'Normal', 'TRUE', 'FALSE', 'TRUE'],\n",
       " ['5', 'Baja', 'Baja', 'No', 'FALSE', 'Si'],\n",
       " ['6', 'Baja', 'Baja', 'FALSE', 'TRUE', 'FALSE'],\n",
       " ['7', 'Normal', 'Baja', 'FALSE', 'TRUE', 'Si'],\n",
       " ['8', 'Alta', 'Normal', 'Si', 'No', 'No'],\n",
       " ['9', 'Alta', 'Normal', 'FALSE', 'FALSE', 'TRUE'],\n",
       " ['10', 'Baja', 'Normal', 'FALSE', 'FALSE', 'TRUE'],\n",
       " ['11', 'Alta', 'Normal', 'FALSE', 'TRUE', 'TRUE'],\n",
       " ['12', 'Normal', 'Normal', 'TRUE', 'TRUE', 'TRUE'],\n",
       " ['13', 'Normal', 'Alta', 'FALSE', 'FALSE', 'TRUE'],\n",
       " ['14', 'Baja', 'Normal', 'TRUE', 'TRUE', 'FALSE']]"
      ]
     },
     "execution_count": 173,
     "metadata": {},
     "output_type": "execute_result"
    }
   ],
   "source": [
    "import csv\n",
    "with open('sample_data/datos_tratamiento.csv', 'r') as archivo_csv:\n",
    "    datos_de_usuario = csv.reader(archivo_csv)\n",
    "    datos = list(datos_de_usuario)\n",
    "datos"
   ]
  },
  {
   "cell_type": "markdown",
   "id": "43198cce",
   "metadata": {},
   "source": [
    "Definición de métodos para implementar en la condicional\n",
    "* asociacion: Muestra en pantalla las columnas y filas del archivo CSV\n",
    "* aplicar_tratamiento: Llama al método asociacion e indica por pantalla que el paciente requiere tratamiento\n",
    "* no_aplicar_tratamiento: Llama al método asociacion e indica por pantalla que el paciente no necesita tratamiento"
   ]
  },
  {
   "cell_type": "code",
   "execution_count": 180,
   "id": "4c65af20",
   "metadata": {},
   "outputs": [],
   "source": [
    "    def asociacion():\n",
    "        print('Paciente: {0}, Presión Arterial: {1}, Urea en sangre: {2}, Gota: {3}, Hipotiroidismo: {4}'\n",
    "              .format(row[0], row[1], row[2], row[3], row[4]))\n",
    "        \n",
    "    def aplicar_tratamiento():\n",
    "        asociacion()\n",
    "        print('Resultado: El paciente requiere tratamiento')\n",
    "        \n",
    "    def no_aplicar_tratamiento():\n",
    "        asociacion()\n",
    "        print('Resultado: El paciente no necesita tratamiento')   "
   ]
  },
  {
   "cell_type": "markdown",
   "id": "05958723",
   "metadata": {},
   "source": [
    "Aquí se utiliza una iteración para recorrer las filas y varias condicionales para verificar si el valor cumple con lo ingresado"
   ]
  },
  {
   "cell_type": "code",
   "execution_count": 181,
   "id": "f5cec726",
   "metadata": {},
   "outputs": [
    {
     "name": "stdout",
     "output_type": "stream",
     "text": [
      "Paciente: 1, Presión Arterial: Alta, Urea en sangre: Alta, Gota: TRUE, Hipotiroidismo: FALSE\n",
      "Resultado: El paciente no necesita tratamiento\n",
      "Paciente: 2, Presión Arterial: Alta, Urea en sangre: Alta, Gota: TRUE, Hipotiroidismo: TRUE\n",
      "Resultado: El paciente no necesita tratamiento\n",
      "Paciente: 3, Presión Arterial: Normal, Urea en sangre: Alta, Gota: TRUE, Hipotiroidismo: FALSE\n",
      "Resultado: El paciente requiere tratamiento\n",
      "Paciente: 4, Presión Arterial: Baja, Urea en sangre: Normal, Gota: TRUE, Hipotiroidismo: FALSE\n",
      "Resultado: El paciente requiere tratamiento\n",
      "Paciente: 5, Presión Arterial: Baja, Urea en sangre: Baja, Gota: No, Hipotiroidismo: FALSE\n",
      "Resultado: El paciente requiere tratamiento\n",
      "Paciente: 6, Presión Arterial: Baja, Urea en sangre: Baja, Gota: FALSE, Hipotiroidismo: TRUE\n",
      "Resultado: El paciente no necesita tratamiento\n",
      "Paciente: 7, Presión Arterial: Normal, Urea en sangre: Baja, Gota: FALSE, Hipotiroidismo: TRUE\n",
      "Resultado: El paciente requiere tratamiento\n",
      "Paciente: 8, Presión Arterial: Alta, Urea en sangre: Normal, Gota: Si, Hipotiroidismo: No\n",
      "Resultado: El paciente no necesita tratamiento\n",
      "Paciente: 9, Presión Arterial: Alta, Urea en sangre: Normal, Gota: FALSE, Hipotiroidismo: FALSE\n",
      "Resultado: El paciente requiere tratamiento\n",
      "Paciente: 10, Presión Arterial: Baja, Urea en sangre: Normal, Gota: FALSE, Hipotiroidismo: FALSE\n",
      "Resultado: El paciente requiere tratamiento\n",
      "Paciente: 11, Presión Arterial: Alta, Urea en sangre: Normal, Gota: FALSE, Hipotiroidismo: TRUE\n",
      "Resultado: El paciente requiere tratamiento\n",
      "Paciente: 12, Presión Arterial: Normal, Urea en sangre: Normal, Gota: TRUE, Hipotiroidismo: TRUE\n",
      "Resultado: El paciente requiere tratamiento\n",
      "Paciente: 13, Presión Arterial: Normal, Urea en sangre: Alta, Gota: FALSE, Hipotiroidismo: FALSE\n",
      "Resultado: El paciente requiere tratamiento\n",
      "Paciente: 14, Presión Arterial: Baja, Urea en sangre: Normal, Gota: TRUE, Hipotiroidismo: TRUE\n",
      "Resultado: El paciente no necesita tratamiento\n"
     ]
    }
   ],
   "source": [
    "for row in datos:\n",
    "        if row[1] == 'Alta':\n",
    "            if row[3] == 'Si' or row[3] == 'TRUE':\n",
    "                no_aplicar_tratamiento()\n",
    "            else:\n",
    "                aplicar_tratamiento()\n",
    "        elif row[1] == 'Normal':\n",
    "            aplicar_tratamiento()\n",
    "        elif row[1] == 'Baja':\n",
    "            if row[4] == 'Si' or row[4] == 'TRUE':\n",
    "                no_aplicar_tratamiento()\n",
    "            else:\n",
    "                aplicar_tratamiento()"
   ]
  },
  {
   "cell_type": "markdown",
   "id": "24f921dc",
   "metadata": {},
   "source": [
    "       "
   ]
  }
 ],
 "metadata": {
  "kernelspec": {
   "display_name": "Python 3 (ipykernel)",
   "language": "python",
   "name": "python3"
  },
  "language_info": {
   "codemirror_mode": {
    "name": "ipython",
    "version": 3
   },
   "file_extension": ".py",
   "mimetype": "text/x-python",
   "name": "python",
   "nbconvert_exporter": "python",
   "pygments_lexer": "ipython3",
   "version": "3.9.12"
  }
 },
 "nbformat": 4,
 "nbformat_minor": 5
}

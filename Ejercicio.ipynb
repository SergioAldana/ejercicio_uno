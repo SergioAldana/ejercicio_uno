{
 "cells": [
  {
   "cell_type": "markdown",
   "id": "432e8484",
   "metadata": {},
   "source": [
    "## Ejercicio\n",
    "### Carga del CSV:"
   ]
  },
  {
   "cell_type": "code",
   "execution_count": 75,
   "id": "ee5d7d73",
   "metadata": {},
   "outputs": [
    {
     "ename": "IndexError",
     "evalue": "list index out of range",
     "output_type": "error",
     "traceback": [
      "\u001b[1;31m---------------------------------------------------------------------------\u001b[0m",
      "\u001b[1;31mIndexError\u001b[0m                                Traceback (most recent call last)",
      "Input \u001b[1;32mIn [75]\u001b[0m, in \u001b[0;36m<cell line: 2>\u001b[1;34m()\u001b[0m\n\u001b[0;32m     17\u001b[0m     \u001b[38;5;28mprint\u001b[39m(\u001b[38;5;124m'\u001b[39m\u001b[38;5;124mResultado: El paciente no requiere tratamiento\u001b[39m\u001b[38;5;124m'\u001b[39m)\n\u001b[0;32m     19\u001b[0m \u001b[38;5;28;01mfor\u001b[39;00m row \u001b[38;5;129;01min\u001b[39;00m datos:\n\u001b[1;32m---> 20\u001b[0m     \u001b[38;5;28;01mif\u001b[39;00m \u001b[43mrow\u001b[49m\u001b[43m[\u001b[49m\u001b[38;5;241;43m1\u001b[39;49m\u001b[43m]\u001b[49m \u001b[38;5;241m==\u001b[39m \u001b[38;5;124m'\u001b[39m\u001b[38;5;124malta\u001b[39m\u001b[38;5;124m'\u001b[39m:\n\u001b[0;32m     21\u001b[0m         \u001b[38;5;28;01mif\u001b[39;00m \u001b[38;5;28mstr\u001b[39m(row[\u001b[38;5;241m3\u001b[39m])\u001b[38;5;241m.\u001b[39mlower \u001b[38;5;241m==\u001b[39m \u001b[38;5;124m'\u001b[39m\u001b[38;5;124msi\u001b[39m\u001b[38;5;124m'\u001b[39m \u001b[38;5;129;01mor\u001b[39;00m \u001b[38;5;28mstr\u001b[39m(row[\u001b[38;5;241m3\u001b[39m])\u001b[38;5;241m.\u001b[39mlower \u001b[38;5;241m==\u001b[39m \u001b[38;5;124m'\u001b[39m\u001b[38;5;124mtrue\u001b[39m\u001b[38;5;124m'\u001b[39m:\n\u001b[0;32m     22\u001b[0m             no_aplicar_tratamiento\n",
      "\u001b[1;31mIndexError\u001b[0m: list index out of range"
     ]
    }
   ],
   "source": [
    "import csv\n",
    "with open('sample_data/datosTratamiento.csv', 'r') as archivo_csv:\n",
    "    datos_de_usuario = csv.reader(archivo_csv, delimiter='|')\n",
    "    datos = list(datos_de_usuario)\n",
    "    datos\n",
    "\n",
    "    def asociacion():\n",
    "        print('Paciente: {0}, Presión Arterial: {1}, Urea en sangre: {2}, Gota: {3}, Hipotiroidismo: {4}'\n",
    "              .format(row[0], row[1], row[2], row[3], row[4]))\n",
    "        \n",
    "    def aplicar_tratamiento():\n",
    "        asociacion\n",
    "        print('Resultado: El paciente requiere tratamiento')\n",
    "        \n",
    "    def no_aplicar_tratamiento():\n",
    "        asociacion\n",
    "        print('Resultado: El paciente no requiere tratamiento')\n",
    "        \n",
    "    for row in datos:\n",
    "        if row[1] == 'alta':\n",
    "            if str(row[3]).lower == 'si' or str(row[3]).lower == 'true':\n",
    "                no_aplicar_tratamiento\n",
    "            else:\n",
    "                aplicar_tratamiento\n",
    "        elif str(row[1]).lower == 'normal':\n",
    "            aplicar_tratamiento\n",
    "        elif str(row[1]).lower == 'baja':\n",
    "            if str(row[4]).lower == 'si' or str(row[4]).lower == 'true':\n",
    "                no_aplicar_tratamiento\n",
    "            else:\n",
    "                aplicar_tratamiento                "
   ]
  },
  {
   "cell_type": "markdown",
   "id": "24f921dc",
   "metadata": {},
   "source": [
    "       "
   ]
  },
  {
   "cell_type": "code",
   "execution_count": 73,
   "id": "68ef1789",
   "metadata": {},
   "outputs": [
    {
     "name": "stdout",
     "output_type": "stream",
     "text": [
      "Paciente: 1, Presion Arterial: Alta,Urea en sangre: Alta, Gota: True,Hipotiroidismo: False\n",
      "El paciente no nesecita tratamiento\n",
      "Paciente: 2, Presion Arterial: Alta,Urea en sangre: Alta, Gota: True,Hipotiroidismo: True\n",
      "El paciente no nesecita tratamiento\n",
      "Paciente: 3, Presion Arterial: Normal,Urea en sangre: Alta, Gota: True,Hipotiroidismo: False\n",
      "El paciente nesecita tratamiento\n",
      "Paciente: 4, Presion Arterial: Baja,Urea en sangre: Normal, Gota: True,Hipotiroidismo: False\n",
      "El paciente nesecita tratamiento\n",
      "Paciente: 5, Presion Arterial: Baja,Urea en sangre: Baja, Gota: No,Hipotiroidismo: False\n",
      "El paciente nesecita tratamiento\n",
      "Paciente: 6, Presion Arterial: Baja,Urea en sangre: Baja, Gota: False,Hipotiroidismo: True\n",
      "El paciente no nesecita tratamiento\n",
      "Paciente: 7, Presion Arterial: Normal,Urea en sangre: Baja, Gota: False,Hipotiroidismo: True\n",
      "El paciente nesecita tratamiento\n",
      "Paciente: 8, Presion Arterial: Alta,Urea en sangre: Normal, Gota: SÃ­,Hipotiroidismo: No\n",
      "El paciente no nesecita tratamiento\n",
      "Paciente: 9, Presion Arterial: Alta,Urea en sangre: Normal, Gota: False,Hipotiroidismo: False\n",
      "El paciente no nesecita tratamiento\n",
      "Paciente: 10, Presion Arterial: Baja,Urea en sangre: Normal, Gota: False,Hipotiroidismo: False\n",
      "El paciente nesecita tratamiento\n",
      "Paciente: 11, Presion Arterial: Alta,Urea en sangre: Normal, Gota: False,Hipotiroidismo: True\n",
      "El paciente no nesecita tratamiento\n",
      "Paciente: 12, Presion Arterial: Normal,Urea en sangre: Normal, Gota: True,Hipotiroidismo: True\n",
      "El paciente nesecita tratamiento\n",
      "Paciente: 13, Presion Arterial: Normal,Urea en sangre: Alta, Gota: False,Hipotiroidismo: False\n",
      "El paciente nesecita tratamiento\n",
      "Paciente: 14, Presion Arterial: Baja,Urea en sangre: Normal, Gota: True,Hipotiroidismo: True\n",
      "El paciente no nesecita tratamiento\n"
     ]
    }
   ],
   "source": [
    "import csv\n",
    "with open('sample_data/datosTratamiento.csv') as csvfile:\n",
    "    user_data = csv.reader(csvfile)\n",
    "    \n",
    "    def Tratamiento():\n",
    "      print(\"Paciente: {0}, Presion Arterial: {1},Urea en sangre: {2}, Gota: {3},Hipotiroidismo: {4}\".format(row[0],row[1],row[2],row[3],row[4]))\n",
    "      print(\"El paciente nesecita tratamiento\")\n",
    "    def noTratamiento():\n",
    "      print(\"Paciente: {0}, Presion Arterial: {1},Urea en sangre: {2}, Gota: {3},Hipotiroidismo: {4}\".format(row[0],row[1],row[2],row[3],row[4]))\n",
    "      print(\"El paciente no nesecita tratamiento\")\n",
    "    for row in user_data:\n",
    "     if row[1]== \"Alta\":\n",
    "       if row[3] == \"No\" or row [3] == \"Falso\":\n",
    "         Tratamiento()\n",
    "       else:\n",
    "           noTratamiento()\n",
    "     elif row[1] == \"Normal\":\n",
    "       Tratamiento()\n",
    "     elif row[1] == \"Baja\":\n",
    "       if row[4] == \"False\" or row[4] == \"No\":\n",
    "         Tratamiento()\n",
    "       else:\n",
    "         noTratamiento()"
   ]
  },
  {
   "cell_type": "code",
   "execution_count": null,
   "id": "7a9cb747",
   "metadata": {},
   "outputs": [],
   "source": []
  },
  {
   "cell_type": "code",
   "execution_count": null,
   "id": "a109a910",
   "metadata": {},
   "outputs": [],
   "source": []
  }
 ],
 "metadata": {
  "kernelspec": {
   "display_name": "Python 3 (ipykernel)",
   "language": "python",
   "name": "python3"
  },
  "language_info": {
   "codemirror_mode": {
    "name": "ipython",
    "version": 3
   },
   "file_extension": ".py",
   "mimetype": "text/x-python",
   "name": "python",
   "nbconvert_exporter": "python",
   "pygments_lexer": "ipython3",
   "version": "3.9.12"
  }
 },
 "nbformat": 4,
 "nbformat_minor": 5
}
